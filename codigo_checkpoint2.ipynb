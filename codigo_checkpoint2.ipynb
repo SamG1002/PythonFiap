{
  "nbformat": 4,
  "nbformat_minor": 0,
  "metadata": {
    "colab": {
      "name": "codigo_checkpoint2.ipynb",
      "provenance": [],
      "collapsed_sections": [
        "MVYnsCKTRFt7",
        "VB6rsGNoRIEs",
        "0K9ECqiJRIZz",
        "FYba1y-bXRvH",
        "EVVTiKADYQfh",
        "lMFM7tstMOQm"
      ],
      "include_colab_link": true
    },
    "kernelspec": {
      "name": "python3",
      "display_name": "Python 3"
    }
  },
  "cells": [
    {
      "cell_type": "markdown",
      "metadata": {
        "id": "view-in-github",
        "colab_type": "text"
      },
      "source": [
        "<a href=\"https://colab.research.google.com/github/SamG1002/PythonFiap/blob/main/codigo_checkpoint2.ipynb\" target=\"_parent\"><img src=\"https://colab.research.google.com/assets/colab-badge.svg\" alt=\"Open In Colab\"/></a>"
      ]
    },
    {
      "cell_type": "markdown",
      "metadata": {
        "id": "MVYnsCKTRFt7"
      },
      "source": [
        "# Checkpoint 1\n",
        "\n",
        "\n",
        "---\n",
        "\n"
      ]
    },
    {
      "cell_type": "markdown",
      "metadata": {
        "id": "VB6rsGNoRIEs"
      },
      "source": [
        "## Carregar módulos"
      ]
    },
    {
      "cell_type": "code",
      "metadata": {
        "id": "IRai7_OaRIJQ"
      },
      "source": [
        "import numpy as np\n",
        "import pandas as pd\n",
        "import matplotlib.pyplot as plt\n",
        "%matplotlib inline\n",
        "import seaborn as sns"
      ],
      "execution_count": null,
      "outputs": []
    },
    {
      "cell_type": "markdown",
      "metadata": {
        "id": "KOHsl-KNRINm"
      },
      "source": [
        "## Carregar dados"
      ]
    },
    {
      "cell_type": "code",
      "metadata": {
        "id": "bKE4njwDRIRm"
      },
      "source": [
        "path = 'https://raw.githubusercontent.com/CSSEGISandData/COVID-19/master/csse_covid_19_data/csse_covid_19_time_series/time_series_covid19_confirmed_global.csv'\n",
        "path_dead =  'https://raw.githubusercontent.com/CSSEGISandData/COVID-19/master/csse_covid_19_data/csse_covid_19_time_series/time_series_covid19_deaths_global.csv'"
      ],
      "execution_count": null,
      "outputs": []
    },
    {
      "cell_type": "code",
      "metadata": {
        "id": "Pb1mQyrlRIVv"
      },
      "source": [
        "dados_paises_covid = pd.read_csv(path)\n",
        "dados_paises_covid_dead = pd.read_csv(path_dead)"
      ],
      "execution_count": null,
      "outputs": []
    },
    {
      "cell_type": "code",
      "metadata": {
        "colab": {
          "base_uri": "https://localhost:8080/",
          "height": 522
        },
        "id": "bxzV_0QVFi29",
        "outputId": "81b72316-bc7e-44f9-8430-c1fe28ea8088"
      },
      "source": [
        "dados_paises_covid"
      ],
      "execution_count": null,
      "outputs": [
        {
          "output_type": "execute_result",
          "data": {
            "text/plain": [
              "    Province/State        Country/Region        Lat        Long  1/22/20  \\\n",
              "0              NaN           Afghanistan  33.939110   67.709953        0   \n",
              "1              NaN               Albania  41.153300   20.168300        0   \n",
              "2              NaN               Algeria  28.033900    1.659600        0   \n",
              "3              NaN               Andorra  42.506300    1.521800        0   \n",
              "4              NaN                Angola -11.202700   17.873900        0   \n",
              "..             ...                   ...        ...         ...      ...   \n",
              "279            NaN    West Bank and Gaza  31.952200   35.233200        0   \n",
              "280            NaN  Winter Olympics 2022  39.904200  116.407400        0   \n",
              "281            NaN                 Yemen  15.552727   48.516388        0   \n",
              "282            NaN                Zambia -13.133897   27.849332        0   \n",
              "283            NaN              Zimbabwe -19.015438   29.154857        0   \n",
              "\n",
              "     1/23/20  1/24/20  1/25/20  1/26/20  1/27/20  ...  5/1/22  5/2/22  5/3/22  \\\n",
              "0          0        0        0        0        0  ...  178899  178901  178901   \n",
              "1          0        0        0        0        0  ...  275167  275177  275191   \n",
              "2          0        0        0        0        0  ...  265782  265782  265782   \n",
              "3          0        0        0        0        0  ...   41349   41349   41349   \n",
              "4          0        0        0        0        0  ...   99287   99287   99287   \n",
              "..       ...      ...      ...      ...      ...  ...     ...     ...     ...   \n",
              "279        0        0        0        0        0  ...  657060  657060  657060   \n",
              "280        0        0        0        0        0  ...     535     535     535   \n",
              "281        0        0        0        0        0  ...   11818   11819   11819   \n",
              "282        0        0        0        0        0  ...  319733  319755  319755   \n",
              "283        0        0        0        0        0  ...  247911  247935  247990   \n",
              "\n",
              "     5/4/22  5/5/22  5/6/22  5/7/22  5/8/22  5/9/22  5/10/22  \n",
              "0    178901  178905  178919  178922  178981  179010   179017  \n",
              "1    275211  275266  275310  275341  275366  275372   275416  \n",
              "2    265782  265786  265791  265794  265798  265800   265804  \n",
              "3     41717   41717   41717   41717   41717   41717    41717  \n",
              "4     99287   99287   99287   99287   99287   99287    99287  \n",
              "..      ...     ...     ...     ...     ...     ...      ...  \n",
              "279  657060  657060  657060  657060  657060  657193   657193  \n",
              "280     535     535     535     535     535     535      535  \n",
              "281   11819   11819   11819   11819   11819   11819    11819  \n",
              "282  319755  319755  319755  320099  320099  320157   320226  \n",
              "283  248050  248050  248214  248214  248352  248536   248642  \n",
              "\n",
              "[284 rows x 844 columns]"
            ],
            "text/html": [
              "\n",
              "  <div id=\"df-8efa78bf-4156-447f-a81c-286188df8203\">\n",
              "    <div class=\"colab-df-container\">\n",
              "      <div>\n",
              "<style scoped>\n",
              "    .dataframe tbody tr th:only-of-type {\n",
              "        vertical-align: middle;\n",
              "    }\n",
              "\n",
              "    .dataframe tbody tr th {\n",
              "        vertical-align: top;\n",
              "    }\n",
              "\n",
              "    .dataframe thead th {\n",
              "        text-align: right;\n",
              "    }\n",
              "</style>\n",
              "<table border=\"1\" class=\"dataframe\">\n",
              "  <thead>\n",
              "    <tr style=\"text-align: right;\">\n",
              "      <th></th>\n",
              "      <th>Province/State</th>\n",
              "      <th>Country/Region</th>\n",
              "      <th>Lat</th>\n",
              "      <th>Long</th>\n",
              "      <th>1/22/20</th>\n",
              "      <th>1/23/20</th>\n",
              "      <th>1/24/20</th>\n",
              "      <th>1/25/20</th>\n",
              "      <th>1/26/20</th>\n",
              "      <th>1/27/20</th>\n",
              "      <th>...</th>\n",
              "      <th>5/1/22</th>\n",
              "      <th>5/2/22</th>\n",
              "      <th>5/3/22</th>\n",
              "      <th>5/4/22</th>\n",
              "      <th>5/5/22</th>\n",
              "      <th>5/6/22</th>\n",
              "      <th>5/7/22</th>\n",
              "      <th>5/8/22</th>\n",
              "      <th>5/9/22</th>\n",
              "      <th>5/10/22</th>\n",
              "    </tr>\n",
              "  </thead>\n",
              "  <tbody>\n",
              "    <tr>\n",
              "      <th>0</th>\n",
              "      <td>NaN</td>\n",
              "      <td>Afghanistan</td>\n",
              "      <td>33.939110</td>\n",
              "      <td>67.709953</td>\n",
              "      <td>0</td>\n",
              "      <td>0</td>\n",
              "      <td>0</td>\n",
              "      <td>0</td>\n",
              "      <td>0</td>\n",
              "      <td>0</td>\n",
              "      <td>...</td>\n",
              "      <td>178899</td>\n",
              "      <td>178901</td>\n",
              "      <td>178901</td>\n",
              "      <td>178901</td>\n",
              "      <td>178905</td>\n",
              "      <td>178919</td>\n",
              "      <td>178922</td>\n",
              "      <td>178981</td>\n",
              "      <td>179010</td>\n",
              "      <td>179017</td>\n",
              "    </tr>\n",
              "    <tr>\n",
              "      <th>1</th>\n",
              "      <td>NaN</td>\n",
              "      <td>Albania</td>\n",
              "      <td>41.153300</td>\n",
              "      <td>20.168300</td>\n",
              "      <td>0</td>\n",
              "      <td>0</td>\n",
              "      <td>0</td>\n",
              "      <td>0</td>\n",
              "      <td>0</td>\n",
              "      <td>0</td>\n",
              "      <td>...</td>\n",
              "      <td>275167</td>\n",
              "      <td>275177</td>\n",
              "      <td>275191</td>\n",
              "      <td>275211</td>\n",
              "      <td>275266</td>\n",
              "      <td>275310</td>\n",
              "      <td>275341</td>\n",
              "      <td>275366</td>\n",
              "      <td>275372</td>\n",
              "      <td>275416</td>\n",
              "    </tr>\n",
              "    <tr>\n",
              "      <th>2</th>\n",
              "      <td>NaN</td>\n",
              "      <td>Algeria</td>\n",
              "      <td>28.033900</td>\n",
              "      <td>1.659600</td>\n",
              "      <td>0</td>\n",
              "      <td>0</td>\n",
              "      <td>0</td>\n",
              "      <td>0</td>\n",
              "      <td>0</td>\n",
              "      <td>0</td>\n",
              "      <td>...</td>\n",
              "      <td>265782</td>\n",
              "      <td>265782</td>\n",
              "      <td>265782</td>\n",
              "      <td>265782</td>\n",
              "      <td>265786</td>\n",
              "      <td>265791</td>\n",
              "      <td>265794</td>\n",
              "      <td>265798</td>\n",
              "      <td>265800</td>\n",
              "      <td>265804</td>\n",
              "    </tr>\n",
              "    <tr>\n",
              "      <th>3</th>\n",
              "      <td>NaN</td>\n",
              "      <td>Andorra</td>\n",
              "      <td>42.506300</td>\n",
              "      <td>1.521800</td>\n",
              "      <td>0</td>\n",
              "      <td>0</td>\n",
              "      <td>0</td>\n",
              "      <td>0</td>\n",
              "      <td>0</td>\n",
              "      <td>0</td>\n",
              "      <td>...</td>\n",
              "      <td>41349</td>\n",
              "      <td>41349</td>\n",
              "      <td>41349</td>\n",
              "      <td>41717</td>\n",
              "      <td>41717</td>\n",
              "      <td>41717</td>\n",
              "      <td>41717</td>\n",
              "      <td>41717</td>\n",
              "      <td>41717</td>\n",
              "      <td>41717</td>\n",
              "    </tr>\n",
              "    <tr>\n",
              "      <th>4</th>\n",
              "      <td>NaN</td>\n",
              "      <td>Angola</td>\n",
              "      <td>-11.202700</td>\n",
              "      <td>17.873900</td>\n",
              "      <td>0</td>\n",
              "      <td>0</td>\n",
              "      <td>0</td>\n",
              "      <td>0</td>\n",
              "      <td>0</td>\n",
              "      <td>0</td>\n",
              "      <td>...</td>\n",
              "      <td>99287</td>\n",
              "      <td>99287</td>\n",
              "      <td>99287</td>\n",
              "      <td>99287</td>\n",
              "      <td>99287</td>\n",
              "      <td>99287</td>\n",
              "      <td>99287</td>\n",
              "      <td>99287</td>\n",
              "      <td>99287</td>\n",
              "      <td>99287</td>\n",
              "    </tr>\n",
              "    <tr>\n",
              "      <th>...</th>\n",
              "      <td>...</td>\n",
              "      <td>...</td>\n",
              "      <td>...</td>\n",
              "      <td>...</td>\n",
              "      <td>...</td>\n",
              "      <td>...</td>\n",
              "      <td>...</td>\n",
              "      <td>...</td>\n",
              "      <td>...</td>\n",
              "      <td>...</td>\n",
              "      <td>...</td>\n",
              "      <td>...</td>\n",
              "      <td>...</td>\n",
              "      <td>...</td>\n",
              "      <td>...</td>\n",
              "      <td>...</td>\n",
              "      <td>...</td>\n",
              "      <td>...</td>\n",
              "      <td>...</td>\n",
              "      <td>...</td>\n",
              "      <td>...</td>\n",
              "    </tr>\n",
              "    <tr>\n",
              "      <th>279</th>\n",
              "      <td>NaN</td>\n",
              "      <td>West Bank and Gaza</td>\n",
              "      <td>31.952200</td>\n",
              "      <td>35.233200</td>\n",
              "      <td>0</td>\n",
              "      <td>0</td>\n",
              "      <td>0</td>\n",
              "      <td>0</td>\n",
              "      <td>0</td>\n",
              "      <td>0</td>\n",
              "      <td>...</td>\n",
              "      <td>657060</td>\n",
              "      <td>657060</td>\n",
              "      <td>657060</td>\n",
              "      <td>657060</td>\n",
              "      <td>657060</td>\n",
              "      <td>657060</td>\n",
              "      <td>657060</td>\n",
              "      <td>657060</td>\n",
              "      <td>657193</td>\n",
              "      <td>657193</td>\n",
              "    </tr>\n",
              "    <tr>\n",
              "      <th>280</th>\n",
              "      <td>NaN</td>\n",
              "      <td>Winter Olympics 2022</td>\n",
              "      <td>39.904200</td>\n",
              "      <td>116.407400</td>\n",
              "      <td>0</td>\n",
              "      <td>0</td>\n",
              "      <td>0</td>\n",
              "      <td>0</td>\n",
              "      <td>0</td>\n",
              "      <td>0</td>\n",
              "      <td>...</td>\n",
              "      <td>535</td>\n",
              "      <td>535</td>\n",
              "      <td>535</td>\n",
              "      <td>535</td>\n",
              "      <td>535</td>\n",
              "      <td>535</td>\n",
              "      <td>535</td>\n",
              "      <td>535</td>\n",
              "      <td>535</td>\n",
              "      <td>535</td>\n",
              "    </tr>\n",
              "    <tr>\n",
              "      <th>281</th>\n",
              "      <td>NaN</td>\n",
              "      <td>Yemen</td>\n",
              "      <td>15.552727</td>\n",
              "      <td>48.516388</td>\n",
              "      <td>0</td>\n",
              "      <td>0</td>\n",
              "      <td>0</td>\n",
              "      <td>0</td>\n",
              "      <td>0</td>\n",
              "      <td>0</td>\n",
              "      <td>...</td>\n",
              "      <td>11818</td>\n",
              "      <td>11819</td>\n",
              "      <td>11819</td>\n",
              "      <td>11819</td>\n",
              "      <td>11819</td>\n",
              "      <td>11819</td>\n",
              "      <td>11819</td>\n",
              "      <td>11819</td>\n",
              "      <td>11819</td>\n",
              "      <td>11819</td>\n",
              "    </tr>\n",
              "    <tr>\n",
              "      <th>282</th>\n",
              "      <td>NaN</td>\n",
              "      <td>Zambia</td>\n",
              "      <td>-13.133897</td>\n",
              "      <td>27.849332</td>\n",
              "      <td>0</td>\n",
              "      <td>0</td>\n",
              "      <td>0</td>\n",
              "      <td>0</td>\n",
              "      <td>0</td>\n",
              "      <td>0</td>\n",
              "      <td>...</td>\n",
              "      <td>319733</td>\n",
              "      <td>319755</td>\n",
              "      <td>319755</td>\n",
              "      <td>319755</td>\n",
              "      <td>319755</td>\n",
              "      <td>319755</td>\n",
              "      <td>320099</td>\n",
              "      <td>320099</td>\n",
              "      <td>320157</td>\n",
              "      <td>320226</td>\n",
              "    </tr>\n",
              "    <tr>\n",
              "      <th>283</th>\n",
              "      <td>NaN</td>\n",
              "      <td>Zimbabwe</td>\n",
              "      <td>-19.015438</td>\n",
              "      <td>29.154857</td>\n",
              "      <td>0</td>\n",
              "      <td>0</td>\n",
              "      <td>0</td>\n",
              "      <td>0</td>\n",
              "      <td>0</td>\n",
              "      <td>0</td>\n",
              "      <td>...</td>\n",
              "      <td>247911</td>\n",
              "      <td>247935</td>\n",
              "      <td>247990</td>\n",
              "      <td>248050</td>\n",
              "      <td>248050</td>\n",
              "      <td>248214</td>\n",
              "      <td>248214</td>\n",
              "      <td>248352</td>\n",
              "      <td>248536</td>\n",
              "      <td>248642</td>\n",
              "    </tr>\n",
              "  </tbody>\n",
              "</table>\n",
              "<p>284 rows × 844 columns</p>\n",
              "</div>\n",
              "      <button class=\"colab-df-convert\" onclick=\"convertToInteractive('df-8efa78bf-4156-447f-a81c-286188df8203')\"\n",
              "              title=\"Convert this dataframe to an interactive table.\"\n",
              "              style=\"display:none;\">\n",
              "        \n",
              "  <svg xmlns=\"http://www.w3.org/2000/svg\" height=\"24px\"viewBox=\"0 0 24 24\"\n",
              "       width=\"24px\">\n",
              "    <path d=\"M0 0h24v24H0V0z\" fill=\"none\"/>\n",
              "    <path d=\"M18.56 5.44l.94 2.06.94-2.06 2.06-.94-2.06-.94-.94-2.06-.94 2.06-2.06.94zm-11 1L8.5 8.5l.94-2.06 2.06-.94-2.06-.94L8.5 2.5l-.94 2.06-2.06.94zm10 10l.94 2.06.94-2.06 2.06-.94-2.06-.94-.94-2.06-.94 2.06-2.06.94z\"/><path d=\"M17.41 7.96l-1.37-1.37c-.4-.4-.92-.59-1.43-.59-.52 0-1.04.2-1.43.59L10.3 9.45l-7.72 7.72c-.78.78-.78 2.05 0 2.83L4 21.41c.39.39.9.59 1.41.59.51 0 1.02-.2 1.41-.59l7.78-7.78 2.81-2.81c.8-.78.8-2.07 0-2.86zM5.41 20L4 18.59l7.72-7.72 1.47 1.35L5.41 20z\"/>\n",
              "  </svg>\n",
              "      </button>\n",
              "      \n",
              "  <style>\n",
              "    .colab-df-container {\n",
              "      display:flex;\n",
              "      flex-wrap:wrap;\n",
              "      gap: 12px;\n",
              "    }\n",
              "\n",
              "    .colab-df-convert {\n",
              "      background-color: #E8F0FE;\n",
              "      border: none;\n",
              "      border-radius: 50%;\n",
              "      cursor: pointer;\n",
              "      display: none;\n",
              "      fill: #1967D2;\n",
              "      height: 32px;\n",
              "      padding: 0 0 0 0;\n",
              "      width: 32px;\n",
              "    }\n",
              "\n",
              "    .colab-df-convert:hover {\n",
              "      background-color: #E2EBFA;\n",
              "      box-shadow: 0px 1px 2px rgba(60, 64, 67, 0.3), 0px 1px 3px 1px rgba(60, 64, 67, 0.15);\n",
              "      fill: #174EA6;\n",
              "    }\n",
              "\n",
              "    [theme=dark] .colab-df-convert {\n",
              "      background-color: #3B4455;\n",
              "      fill: #D2E3FC;\n",
              "    }\n",
              "\n",
              "    [theme=dark] .colab-df-convert:hover {\n",
              "      background-color: #434B5C;\n",
              "      box-shadow: 0px 1px 3px 1px rgba(0, 0, 0, 0.15);\n",
              "      filter: drop-shadow(0px 1px 2px rgba(0, 0, 0, 0.3));\n",
              "      fill: #FFFFFF;\n",
              "    }\n",
              "  </style>\n",
              "\n",
              "      <script>\n",
              "        const buttonEl =\n",
              "          document.querySelector('#df-8efa78bf-4156-447f-a81c-286188df8203 button.colab-df-convert');\n",
              "        buttonEl.style.display =\n",
              "          google.colab.kernel.accessAllowed ? 'block' : 'none';\n",
              "\n",
              "        async function convertToInteractive(key) {\n",
              "          const element = document.querySelector('#df-8efa78bf-4156-447f-a81c-286188df8203');\n",
              "          const dataTable =\n",
              "            await google.colab.kernel.invokeFunction('convertToInteractive',\n",
              "                                                     [key], {});\n",
              "          if (!dataTable) return;\n",
              "\n",
              "          const docLinkHtml = 'Like what you see? Visit the ' +\n",
              "            '<a target=\"_blank\" href=https://colab.research.google.com/notebooks/data_table.ipynb>data table notebook</a>'\n",
              "            + ' to learn more about interactive tables.';\n",
              "          element.innerHTML = '';\n",
              "          dataTable['output_type'] = 'display_data';\n",
              "          await google.colab.output.renderOutput(dataTable, element);\n",
              "          const docLink = document.createElement('div');\n",
              "          docLink.innerHTML = docLinkHtml;\n",
              "          element.appendChild(docLink);\n",
              "        }\n",
              "      </script>\n",
              "    </div>\n",
              "  </div>\n",
              "  "
            ]
          },
          "metadata": {},
          "execution_count": 5
        }
      ]
    },
    {
      "cell_type": "markdown",
      "metadata": {
        "id": "0K9ECqiJRIZz"
      },
      "source": [
        "## Ajustes\n",
        "\n"
      ]
    },
    {
      "cell_type": "markdown",
      "metadata": {
        "id": "l-WQgrhUV8tq"
      },
      "source": [
        "- Nomes das colunas"
      ]
    },
    {
      "cell_type": "code",
      "metadata": {
        "id": "SaCpjFuARIeA"
      },
      "source": [
        "dados_paises_covid.rename(columns={\"Province/State\": \"province\", \n",
        "                                   \"Country/Region\": \"country\"}, \n",
        "                          inplace=True)"
      ],
      "execution_count": null,
      "outputs": []
    },
    {
      "cell_type": "code",
      "metadata": {
        "id": "dL98RCsDS9Nf"
      },
      "source": [
        "dados_paises_covid_dead.rename(columns={\"Province/State\": \"province\", \n",
        "                                        \"Country/Region\": \"country\"}, \n",
        "                               inplace=True)"
      ],
      "execution_count": null,
      "outputs": []
    },
    {
      "cell_type": "code",
      "metadata": {
        "colab": {
          "base_uri": "https://localhost:8080/"
        },
        "id": "C6QWe5tqS9Q_",
        "outputId": "742363e1-039a-4975-b428-587f853e6b00"
      },
      "source": [
        "dados_paises_covid_dead.columns"
      ],
      "execution_count": null,
      "outputs": [
        {
          "output_type": "execute_result",
          "data": {
            "text/plain": [
              "Index(['province', 'country', 'Lat', 'Long', '1/22/20', '1/23/20', '1/24/20',\n",
              "       '1/25/20', '1/26/20', '1/27/20',\n",
              "       ...\n",
              "       '5/1/22', '5/2/22', '5/3/22', '5/4/22', '5/5/22', '5/6/22', '5/7/22',\n",
              "       '5/8/22', '5/9/22', '5/10/22'],\n",
              "      dtype='object', length=844)"
            ]
          },
          "metadata": {},
          "execution_count": 8
        }
      ]
    },
    {
      "cell_type": "markdown",
      "metadata": {
        "id": "bIMzVm_0WBZH"
      },
      "source": [
        "- Reajustar dados"
      ]
    },
    {
      "cell_type": "code",
      "metadata": {
        "id": "WknmgipES9V0"
      },
      "source": [
        "dados_paises_covid = dados_paises_covid.melt(id_vars=['province', 'country', 'Lat', 'Long'], \n",
        "                                             var_name = 'date', \n",
        "                                             value_name = 'infected')"
      ],
      "execution_count": null,
      "outputs": []
    },
    {
      "cell_type": "code",
      "metadata": {
        "id": "Hc-sV4zWS9aH"
      },
      "source": [
        "dados_paises_covid_dead = dados_paises_covid_dead.melt(id_vars=['province', 'country', 'Lat', 'Long'], \n",
        "                                                       var_name = 'date', \n",
        "                                                       value_name = 'dead')"
      ],
      "execution_count": null,
      "outputs": []
    },
    {
      "cell_type": "code",
      "metadata": {
        "colab": {
          "base_uri": "https://localhost:8080/",
          "height": 206
        },
        "id": "QX2EUqp0S9eT",
        "outputId": "8a3a6d73-e7da-4c94-cd62-9feebf1ba15f"
      },
      "source": [
        "dados_paises_covid_dead.tail()"
      ],
      "execution_count": null,
      "outputs": [
        {
          "output_type": "execute_result",
          "data": {
            "text/plain": [
              "       province               country        Lat        Long     date  dead\n",
              "238555      NaN    West Bank and Gaza  31.952200   35.233200  5/10/22  5657\n",
              "238556      NaN  Winter Olympics 2022  39.904200  116.407400  5/10/22     0\n",
              "238557      NaN                 Yemen  15.552727   48.516388  5/10/22  2149\n",
              "238558      NaN                Zambia -13.133897   27.849332  5/10/22  3983\n",
              "238559      NaN              Zimbabwe -19.015438   29.154857  5/10/22  5481"
            ],
            "text/html": [
              "\n",
              "  <div id=\"df-9ea397fe-0070-449b-95d9-dc6b32073e5f\">\n",
              "    <div class=\"colab-df-container\">\n",
              "      <div>\n",
              "<style scoped>\n",
              "    .dataframe tbody tr th:only-of-type {\n",
              "        vertical-align: middle;\n",
              "    }\n",
              "\n",
              "    .dataframe tbody tr th {\n",
              "        vertical-align: top;\n",
              "    }\n",
              "\n",
              "    .dataframe thead th {\n",
              "        text-align: right;\n",
              "    }\n",
              "</style>\n",
              "<table border=\"1\" class=\"dataframe\">\n",
              "  <thead>\n",
              "    <tr style=\"text-align: right;\">\n",
              "      <th></th>\n",
              "      <th>province</th>\n",
              "      <th>country</th>\n",
              "      <th>Lat</th>\n",
              "      <th>Long</th>\n",
              "      <th>date</th>\n",
              "      <th>dead</th>\n",
              "    </tr>\n",
              "  </thead>\n",
              "  <tbody>\n",
              "    <tr>\n",
              "      <th>238555</th>\n",
              "      <td>NaN</td>\n",
              "      <td>West Bank and Gaza</td>\n",
              "      <td>31.952200</td>\n",
              "      <td>35.233200</td>\n",
              "      <td>5/10/22</td>\n",
              "      <td>5657</td>\n",
              "    </tr>\n",
              "    <tr>\n",
              "      <th>238556</th>\n",
              "      <td>NaN</td>\n",
              "      <td>Winter Olympics 2022</td>\n",
              "      <td>39.904200</td>\n",
              "      <td>116.407400</td>\n",
              "      <td>5/10/22</td>\n",
              "      <td>0</td>\n",
              "    </tr>\n",
              "    <tr>\n",
              "      <th>238557</th>\n",
              "      <td>NaN</td>\n",
              "      <td>Yemen</td>\n",
              "      <td>15.552727</td>\n",
              "      <td>48.516388</td>\n",
              "      <td>5/10/22</td>\n",
              "      <td>2149</td>\n",
              "    </tr>\n",
              "    <tr>\n",
              "      <th>238558</th>\n",
              "      <td>NaN</td>\n",
              "      <td>Zambia</td>\n",
              "      <td>-13.133897</td>\n",
              "      <td>27.849332</td>\n",
              "      <td>5/10/22</td>\n",
              "      <td>3983</td>\n",
              "    </tr>\n",
              "    <tr>\n",
              "      <th>238559</th>\n",
              "      <td>NaN</td>\n",
              "      <td>Zimbabwe</td>\n",
              "      <td>-19.015438</td>\n",
              "      <td>29.154857</td>\n",
              "      <td>5/10/22</td>\n",
              "      <td>5481</td>\n",
              "    </tr>\n",
              "  </tbody>\n",
              "</table>\n",
              "</div>\n",
              "      <button class=\"colab-df-convert\" onclick=\"convertToInteractive('df-9ea397fe-0070-449b-95d9-dc6b32073e5f')\"\n",
              "              title=\"Convert this dataframe to an interactive table.\"\n",
              "              style=\"display:none;\">\n",
              "        \n",
              "  <svg xmlns=\"http://www.w3.org/2000/svg\" height=\"24px\"viewBox=\"0 0 24 24\"\n",
              "       width=\"24px\">\n",
              "    <path d=\"M0 0h24v24H0V0z\" fill=\"none\"/>\n",
              "    <path d=\"M18.56 5.44l.94 2.06.94-2.06 2.06-.94-2.06-.94-.94-2.06-.94 2.06-2.06.94zm-11 1L8.5 8.5l.94-2.06 2.06-.94-2.06-.94L8.5 2.5l-.94 2.06-2.06.94zm10 10l.94 2.06.94-2.06 2.06-.94-2.06-.94-.94-2.06-.94 2.06-2.06.94z\"/><path d=\"M17.41 7.96l-1.37-1.37c-.4-.4-.92-.59-1.43-.59-.52 0-1.04.2-1.43.59L10.3 9.45l-7.72 7.72c-.78.78-.78 2.05 0 2.83L4 21.41c.39.39.9.59 1.41.59.51 0 1.02-.2 1.41-.59l7.78-7.78 2.81-2.81c.8-.78.8-2.07 0-2.86zM5.41 20L4 18.59l7.72-7.72 1.47 1.35L5.41 20z\"/>\n",
              "  </svg>\n",
              "      </button>\n",
              "      \n",
              "  <style>\n",
              "    .colab-df-container {\n",
              "      display:flex;\n",
              "      flex-wrap:wrap;\n",
              "      gap: 12px;\n",
              "    }\n",
              "\n",
              "    .colab-df-convert {\n",
              "      background-color: #E8F0FE;\n",
              "      border: none;\n",
              "      border-radius: 50%;\n",
              "      cursor: pointer;\n",
              "      display: none;\n",
              "      fill: #1967D2;\n",
              "      height: 32px;\n",
              "      padding: 0 0 0 0;\n",
              "      width: 32px;\n",
              "    }\n",
              "\n",
              "    .colab-df-convert:hover {\n",
              "      background-color: #E2EBFA;\n",
              "      box-shadow: 0px 1px 2px rgba(60, 64, 67, 0.3), 0px 1px 3px 1px rgba(60, 64, 67, 0.15);\n",
              "      fill: #174EA6;\n",
              "    }\n",
              "\n",
              "    [theme=dark] .colab-df-convert {\n",
              "      background-color: #3B4455;\n",
              "      fill: #D2E3FC;\n",
              "    }\n",
              "\n",
              "    [theme=dark] .colab-df-convert:hover {\n",
              "      background-color: #434B5C;\n",
              "      box-shadow: 0px 1px 3px 1px rgba(0, 0, 0, 0.15);\n",
              "      filter: drop-shadow(0px 1px 2px rgba(0, 0, 0, 0.3));\n",
              "      fill: #FFFFFF;\n",
              "    }\n",
              "  </style>\n",
              "\n",
              "      <script>\n",
              "        const buttonEl =\n",
              "          document.querySelector('#df-9ea397fe-0070-449b-95d9-dc6b32073e5f button.colab-df-convert');\n",
              "        buttonEl.style.display =\n",
              "          google.colab.kernel.accessAllowed ? 'block' : 'none';\n",
              "\n",
              "        async function convertToInteractive(key) {\n",
              "          const element = document.querySelector('#df-9ea397fe-0070-449b-95d9-dc6b32073e5f');\n",
              "          const dataTable =\n",
              "            await google.colab.kernel.invokeFunction('convertToInteractive',\n",
              "                                                     [key], {});\n",
              "          if (!dataTable) return;\n",
              "\n",
              "          const docLinkHtml = 'Like what you see? Visit the ' +\n",
              "            '<a target=\"_blank\" href=https://colab.research.google.com/notebooks/data_table.ipynb>data table notebook</a>'\n",
              "            + ' to learn more about interactive tables.';\n",
              "          element.innerHTML = '';\n",
              "          dataTable['output_type'] = 'display_data';\n",
              "          await google.colab.output.renderOutput(dataTable, element);\n",
              "          const docLink = document.createElement('div');\n",
              "          docLink.innerHTML = docLinkHtml;\n",
              "          element.appendChild(docLink);\n",
              "        }\n",
              "      </script>\n",
              "    </div>\n",
              "  </div>\n",
              "  "
            ]
          },
          "metadata": {},
          "execution_count": 11
        }
      ]
    },
    {
      "cell_type": "code",
      "metadata": {
        "colab": {
          "base_uri": "https://localhost:8080/"
        },
        "id": "QmpQK2_mWJi3",
        "outputId": "7efbdc6b-8195-4a01-cdcc-26200adaafa6"
      },
      "source": [
        "dados_paises_covid_dead.dtypes"
      ],
      "execution_count": null,
      "outputs": [
        {
          "output_type": "execute_result",
          "data": {
            "text/plain": [
              "province     object\n",
              "country      object\n",
              "Lat         float64\n",
              "Long        float64\n",
              "date         object\n",
              "dead          int64\n",
              "dtype: object"
            ]
          },
          "metadata": {},
          "execution_count": 12
        }
      ]
    },
    {
      "cell_type": "markdown",
      "metadata": {
        "id": "AFvH-XFGS9ip"
      },
      "source": [
        "- Ajustar datas"
      ]
    },
    {
      "cell_type": "code",
      "metadata": {
        "id": "2qHen0szS9nZ"
      },
      "source": [
        "dados_paises_covid['date'] = pd.to_datetime(dados_paises_covid['date'], \n",
        "                                            infer_datetime_format='True')"
      ],
      "execution_count": null,
      "outputs": []
    },
    {
      "cell_type": "code",
      "metadata": {
        "id": "5hVb7IVeXIDn"
      },
      "source": [
        "dados_paises_covid_dead['date'] = pd.to_datetime(dados_paises_covid_dead['date'], \n",
        "                                                 infer_datetime_format='True')"
      ],
      "execution_count": null,
      "outputs": []
    },
    {
      "cell_type": "code",
      "metadata": {
        "colab": {
          "base_uri": "https://localhost:8080/",
          "height": 206
        },
        "id": "f78IaxkGXmbg",
        "outputId": "5a42399e-bc4b-4640-bcb5-0dc776fcb0b5"
      },
      "source": [
        "dados_paises_covid.tail()"
      ],
      "execution_count": null,
      "outputs": [
        {
          "output_type": "execute_result",
          "data": {
            "text/plain": [
              "       province               country        Lat        Long       date  \\\n",
              "238555      NaN    West Bank and Gaza  31.952200   35.233200 2022-05-10   \n",
              "238556      NaN  Winter Olympics 2022  39.904200  116.407400 2022-05-10   \n",
              "238557      NaN                 Yemen  15.552727   48.516388 2022-05-10   \n",
              "238558      NaN                Zambia -13.133897   27.849332 2022-05-10   \n",
              "238559      NaN              Zimbabwe -19.015438   29.154857 2022-05-10   \n",
              "\n",
              "        infected  \n",
              "238555    657193  \n",
              "238556       535  \n",
              "238557     11819  \n",
              "238558    320226  \n",
              "238559    248642  "
            ],
            "text/html": [
              "\n",
              "  <div id=\"df-eb66a318-63a7-4ab2-903d-83bde2ead73e\">\n",
              "    <div class=\"colab-df-container\">\n",
              "      <div>\n",
              "<style scoped>\n",
              "    .dataframe tbody tr th:only-of-type {\n",
              "        vertical-align: middle;\n",
              "    }\n",
              "\n",
              "    .dataframe tbody tr th {\n",
              "        vertical-align: top;\n",
              "    }\n",
              "\n",
              "    .dataframe thead th {\n",
              "        text-align: right;\n",
              "    }\n",
              "</style>\n",
              "<table border=\"1\" class=\"dataframe\">\n",
              "  <thead>\n",
              "    <tr style=\"text-align: right;\">\n",
              "      <th></th>\n",
              "      <th>province</th>\n",
              "      <th>country</th>\n",
              "      <th>Lat</th>\n",
              "      <th>Long</th>\n",
              "      <th>date</th>\n",
              "      <th>infected</th>\n",
              "    </tr>\n",
              "  </thead>\n",
              "  <tbody>\n",
              "    <tr>\n",
              "      <th>238555</th>\n",
              "      <td>NaN</td>\n",
              "      <td>West Bank and Gaza</td>\n",
              "      <td>31.952200</td>\n",
              "      <td>35.233200</td>\n",
              "      <td>2022-05-10</td>\n",
              "      <td>657193</td>\n",
              "    </tr>\n",
              "    <tr>\n",
              "      <th>238556</th>\n",
              "      <td>NaN</td>\n",
              "      <td>Winter Olympics 2022</td>\n",
              "      <td>39.904200</td>\n",
              "      <td>116.407400</td>\n",
              "      <td>2022-05-10</td>\n",
              "      <td>535</td>\n",
              "    </tr>\n",
              "    <tr>\n",
              "      <th>238557</th>\n",
              "      <td>NaN</td>\n",
              "      <td>Yemen</td>\n",
              "      <td>15.552727</td>\n",
              "      <td>48.516388</td>\n",
              "      <td>2022-05-10</td>\n",
              "      <td>11819</td>\n",
              "    </tr>\n",
              "    <tr>\n",
              "      <th>238558</th>\n",
              "      <td>NaN</td>\n",
              "      <td>Zambia</td>\n",
              "      <td>-13.133897</td>\n",
              "      <td>27.849332</td>\n",
              "      <td>2022-05-10</td>\n",
              "      <td>320226</td>\n",
              "    </tr>\n",
              "    <tr>\n",
              "      <th>238559</th>\n",
              "      <td>NaN</td>\n",
              "      <td>Zimbabwe</td>\n",
              "      <td>-19.015438</td>\n",
              "      <td>29.154857</td>\n",
              "      <td>2022-05-10</td>\n",
              "      <td>248642</td>\n",
              "    </tr>\n",
              "  </tbody>\n",
              "</table>\n",
              "</div>\n",
              "      <button class=\"colab-df-convert\" onclick=\"convertToInteractive('df-eb66a318-63a7-4ab2-903d-83bde2ead73e')\"\n",
              "              title=\"Convert this dataframe to an interactive table.\"\n",
              "              style=\"display:none;\">\n",
              "        \n",
              "  <svg xmlns=\"http://www.w3.org/2000/svg\" height=\"24px\"viewBox=\"0 0 24 24\"\n",
              "       width=\"24px\">\n",
              "    <path d=\"M0 0h24v24H0V0z\" fill=\"none\"/>\n",
              "    <path d=\"M18.56 5.44l.94 2.06.94-2.06 2.06-.94-2.06-.94-.94-2.06-.94 2.06-2.06.94zm-11 1L8.5 8.5l.94-2.06 2.06-.94-2.06-.94L8.5 2.5l-.94 2.06-2.06.94zm10 10l.94 2.06.94-2.06 2.06-.94-2.06-.94-.94-2.06-.94 2.06-2.06.94z\"/><path d=\"M17.41 7.96l-1.37-1.37c-.4-.4-.92-.59-1.43-.59-.52 0-1.04.2-1.43.59L10.3 9.45l-7.72 7.72c-.78.78-.78 2.05 0 2.83L4 21.41c.39.39.9.59 1.41.59.51 0 1.02-.2 1.41-.59l7.78-7.78 2.81-2.81c.8-.78.8-2.07 0-2.86zM5.41 20L4 18.59l7.72-7.72 1.47 1.35L5.41 20z\"/>\n",
              "  </svg>\n",
              "      </button>\n",
              "      \n",
              "  <style>\n",
              "    .colab-df-container {\n",
              "      display:flex;\n",
              "      flex-wrap:wrap;\n",
              "      gap: 12px;\n",
              "    }\n",
              "\n",
              "    .colab-df-convert {\n",
              "      background-color: #E8F0FE;\n",
              "      border: none;\n",
              "      border-radius: 50%;\n",
              "      cursor: pointer;\n",
              "      display: none;\n",
              "      fill: #1967D2;\n",
              "      height: 32px;\n",
              "      padding: 0 0 0 0;\n",
              "      width: 32px;\n",
              "    }\n",
              "\n",
              "    .colab-df-convert:hover {\n",
              "      background-color: #E2EBFA;\n",
              "      box-shadow: 0px 1px 2px rgba(60, 64, 67, 0.3), 0px 1px 3px 1px rgba(60, 64, 67, 0.15);\n",
              "      fill: #174EA6;\n",
              "    }\n",
              "\n",
              "    [theme=dark] .colab-df-convert {\n",
              "      background-color: #3B4455;\n",
              "      fill: #D2E3FC;\n",
              "    }\n",
              "\n",
              "    [theme=dark] .colab-df-convert:hover {\n",
              "      background-color: #434B5C;\n",
              "      box-shadow: 0px 1px 3px 1px rgba(0, 0, 0, 0.15);\n",
              "      filter: drop-shadow(0px 1px 2px rgba(0, 0, 0, 0.3));\n",
              "      fill: #FFFFFF;\n",
              "    }\n",
              "  </style>\n",
              "\n",
              "      <script>\n",
              "        const buttonEl =\n",
              "          document.querySelector('#df-eb66a318-63a7-4ab2-903d-83bde2ead73e button.colab-df-convert');\n",
              "        buttonEl.style.display =\n",
              "          google.colab.kernel.accessAllowed ? 'block' : 'none';\n",
              "\n",
              "        async function convertToInteractive(key) {\n",
              "          const element = document.querySelector('#df-eb66a318-63a7-4ab2-903d-83bde2ead73e');\n",
              "          const dataTable =\n",
              "            await google.colab.kernel.invokeFunction('convertToInteractive',\n",
              "                                                     [key], {});\n",
              "          if (!dataTable) return;\n",
              "\n",
              "          const docLinkHtml = 'Like what you see? Visit the ' +\n",
              "            '<a target=\"_blank\" href=https://colab.research.google.com/notebooks/data_table.ipynb>data table notebook</a>'\n",
              "            + ' to learn more about interactive tables.';\n",
              "          element.innerHTML = '';\n",
              "          dataTable['output_type'] = 'display_data';\n",
              "          await google.colab.output.renderOutput(dataTable, element);\n",
              "          const docLink = document.createElement('div');\n",
              "          docLink.innerHTML = docLinkHtml;\n",
              "          element.appendChild(docLink);\n",
              "        }\n",
              "      </script>\n",
              "    </div>\n",
              "  </div>\n",
              "  "
            ]
          },
          "metadata": {},
          "execution_count": 15
        }
      ]
    },
    {
      "cell_type": "code",
      "metadata": {
        "colab": {
          "base_uri": "https://localhost:8080/",
          "height": 206
        },
        "id": "uvAjTBCJS9sA",
        "outputId": "bc16771d-a9c2-4650-f8d4-5b9841a4aa75"
      },
      "source": [
        "dados_paises_covid_dead.tail()"
      ],
      "execution_count": null,
      "outputs": [
        {
          "output_type": "execute_result",
          "data": {
            "text/plain": [
              "       province               country        Lat        Long       date  dead\n",
              "238555      NaN    West Bank and Gaza  31.952200   35.233200 2022-05-10  5657\n",
              "238556      NaN  Winter Olympics 2022  39.904200  116.407400 2022-05-10     0\n",
              "238557      NaN                 Yemen  15.552727   48.516388 2022-05-10  2149\n",
              "238558      NaN                Zambia -13.133897   27.849332 2022-05-10  3983\n",
              "238559      NaN              Zimbabwe -19.015438   29.154857 2022-05-10  5481"
            ],
            "text/html": [
              "\n",
              "  <div id=\"df-046fe90a-95c9-4997-b132-904b55e58feb\">\n",
              "    <div class=\"colab-df-container\">\n",
              "      <div>\n",
              "<style scoped>\n",
              "    .dataframe tbody tr th:only-of-type {\n",
              "        vertical-align: middle;\n",
              "    }\n",
              "\n",
              "    .dataframe tbody tr th {\n",
              "        vertical-align: top;\n",
              "    }\n",
              "\n",
              "    .dataframe thead th {\n",
              "        text-align: right;\n",
              "    }\n",
              "</style>\n",
              "<table border=\"1\" class=\"dataframe\">\n",
              "  <thead>\n",
              "    <tr style=\"text-align: right;\">\n",
              "      <th></th>\n",
              "      <th>province</th>\n",
              "      <th>country</th>\n",
              "      <th>Lat</th>\n",
              "      <th>Long</th>\n",
              "      <th>date</th>\n",
              "      <th>dead</th>\n",
              "    </tr>\n",
              "  </thead>\n",
              "  <tbody>\n",
              "    <tr>\n",
              "      <th>238555</th>\n",
              "      <td>NaN</td>\n",
              "      <td>West Bank and Gaza</td>\n",
              "      <td>31.952200</td>\n",
              "      <td>35.233200</td>\n",
              "      <td>2022-05-10</td>\n",
              "      <td>5657</td>\n",
              "    </tr>\n",
              "    <tr>\n",
              "      <th>238556</th>\n",
              "      <td>NaN</td>\n",
              "      <td>Winter Olympics 2022</td>\n",
              "      <td>39.904200</td>\n",
              "      <td>116.407400</td>\n",
              "      <td>2022-05-10</td>\n",
              "      <td>0</td>\n",
              "    </tr>\n",
              "    <tr>\n",
              "      <th>238557</th>\n",
              "      <td>NaN</td>\n",
              "      <td>Yemen</td>\n",
              "      <td>15.552727</td>\n",
              "      <td>48.516388</td>\n",
              "      <td>2022-05-10</td>\n",
              "      <td>2149</td>\n",
              "    </tr>\n",
              "    <tr>\n",
              "      <th>238558</th>\n",
              "      <td>NaN</td>\n",
              "      <td>Zambia</td>\n",
              "      <td>-13.133897</td>\n",
              "      <td>27.849332</td>\n",
              "      <td>2022-05-10</td>\n",
              "      <td>3983</td>\n",
              "    </tr>\n",
              "    <tr>\n",
              "      <th>238559</th>\n",
              "      <td>NaN</td>\n",
              "      <td>Zimbabwe</td>\n",
              "      <td>-19.015438</td>\n",
              "      <td>29.154857</td>\n",
              "      <td>2022-05-10</td>\n",
              "      <td>5481</td>\n",
              "    </tr>\n",
              "  </tbody>\n",
              "</table>\n",
              "</div>\n",
              "      <button class=\"colab-df-convert\" onclick=\"convertToInteractive('df-046fe90a-95c9-4997-b132-904b55e58feb')\"\n",
              "              title=\"Convert this dataframe to an interactive table.\"\n",
              "              style=\"display:none;\">\n",
              "        \n",
              "  <svg xmlns=\"http://www.w3.org/2000/svg\" height=\"24px\"viewBox=\"0 0 24 24\"\n",
              "       width=\"24px\">\n",
              "    <path d=\"M0 0h24v24H0V0z\" fill=\"none\"/>\n",
              "    <path d=\"M18.56 5.44l.94 2.06.94-2.06 2.06-.94-2.06-.94-.94-2.06-.94 2.06-2.06.94zm-11 1L8.5 8.5l.94-2.06 2.06-.94-2.06-.94L8.5 2.5l-.94 2.06-2.06.94zm10 10l.94 2.06.94-2.06 2.06-.94-2.06-.94-.94-2.06-.94 2.06-2.06.94z\"/><path d=\"M17.41 7.96l-1.37-1.37c-.4-.4-.92-.59-1.43-.59-.52 0-1.04.2-1.43.59L10.3 9.45l-7.72 7.72c-.78.78-.78 2.05 0 2.83L4 21.41c.39.39.9.59 1.41.59.51 0 1.02-.2 1.41-.59l7.78-7.78 2.81-2.81c.8-.78.8-2.07 0-2.86zM5.41 20L4 18.59l7.72-7.72 1.47 1.35L5.41 20z\"/>\n",
              "  </svg>\n",
              "      </button>\n",
              "      \n",
              "  <style>\n",
              "    .colab-df-container {\n",
              "      display:flex;\n",
              "      flex-wrap:wrap;\n",
              "      gap: 12px;\n",
              "    }\n",
              "\n",
              "    .colab-df-convert {\n",
              "      background-color: #E8F0FE;\n",
              "      border: none;\n",
              "      border-radius: 50%;\n",
              "      cursor: pointer;\n",
              "      display: none;\n",
              "      fill: #1967D2;\n",
              "      height: 32px;\n",
              "      padding: 0 0 0 0;\n",
              "      width: 32px;\n",
              "    }\n",
              "\n",
              "    .colab-df-convert:hover {\n",
              "      background-color: #E2EBFA;\n",
              "      box-shadow: 0px 1px 2px rgba(60, 64, 67, 0.3), 0px 1px 3px 1px rgba(60, 64, 67, 0.15);\n",
              "      fill: #174EA6;\n",
              "    }\n",
              "\n",
              "    [theme=dark] .colab-df-convert {\n",
              "      background-color: #3B4455;\n",
              "      fill: #D2E3FC;\n",
              "    }\n",
              "\n",
              "    [theme=dark] .colab-df-convert:hover {\n",
              "      background-color: #434B5C;\n",
              "      box-shadow: 0px 1px 3px 1px rgba(0, 0, 0, 0.15);\n",
              "      filter: drop-shadow(0px 1px 2px rgba(0, 0, 0, 0.3));\n",
              "      fill: #FFFFFF;\n",
              "    }\n",
              "  </style>\n",
              "\n",
              "      <script>\n",
              "        const buttonEl =\n",
              "          document.querySelector('#df-046fe90a-95c9-4997-b132-904b55e58feb button.colab-df-convert');\n",
              "        buttonEl.style.display =\n",
              "          google.colab.kernel.accessAllowed ? 'block' : 'none';\n",
              "\n",
              "        async function convertToInteractive(key) {\n",
              "          const element = document.querySelector('#df-046fe90a-95c9-4997-b132-904b55e58feb');\n",
              "          const dataTable =\n",
              "            await google.colab.kernel.invokeFunction('convertToInteractive',\n",
              "                                                     [key], {});\n",
              "          if (!dataTable) return;\n",
              "\n",
              "          const docLinkHtml = 'Like what you see? Visit the ' +\n",
              "            '<a target=\"_blank\" href=https://colab.research.google.com/notebooks/data_table.ipynb>data table notebook</a>'\n",
              "            + ' to learn more about interactive tables.';\n",
              "          element.innerHTML = '';\n",
              "          dataTable['output_type'] = 'display_data';\n",
              "          await google.colab.output.renderOutput(dataTable, element);\n",
              "          const docLink = document.createElement('div');\n",
              "          docLink.innerHTML = docLinkHtml;\n",
              "          element.appendChild(docLink);\n",
              "        }\n",
              "      </script>\n",
              "    </div>\n",
              "  </div>\n",
              "  "
            ]
          },
          "metadata": {},
          "execution_count": 16
        }
      ]
    },
    {
      "cell_type": "code",
      "metadata": {
        "colab": {
          "base_uri": "https://localhost:8080/"
        },
        "id": "F-7i7eqQehUo",
        "outputId": "6cea5d2a-c2c7-4619-cbfa-a168802d021c"
      },
      "source": [
        "dados_paises_covid_dead.dtypes"
      ],
      "execution_count": null,
      "outputs": [
        {
          "output_type": "execute_result",
          "data": {
            "text/plain": [
              "province            object\n",
              "country             object\n",
              "Lat                float64\n",
              "Long               float64\n",
              "date        datetime64[ns]\n",
              "dead                 int64\n",
              "dtype: object"
            ]
          },
          "metadata": {},
          "execution_count": 17
        }
      ]
    },
    {
      "cell_type": "markdown",
      "metadata": {
        "id": "D16RNZgTS9wJ"
      },
      "source": [
        "- Combinar os datasets"
      ]
    },
    {
      "cell_type": "code",
      "metadata": {
        "colab": {
          "base_uri": "https://localhost:8080/"
        },
        "id": "f4zOkqqRXRd3",
        "outputId": "ac635356-acdb-4c0e-e600-23343d4feb5b"
      },
      "source": [
        "dados_paises_covid.shape"
      ],
      "execution_count": null,
      "outputs": [
        {
          "output_type": "execute_result",
          "data": {
            "text/plain": [
              "(238560, 6)"
            ]
          },
          "metadata": {},
          "execution_count": 18
        }
      ]
    },
    {
      "cell_type": "code",
      "metadata": {
        "colab": {
          "base_uri": "https://localhost:8080/"
        },
        "id": "X8OoawEVXRi7",
        "outputId": "a3c90dd3-9330-49d2-8037-a32d0a9aa13d"
      },
      "source": [
        "dados_paises_covid_dead.shape"
      ],
      "execution_count": null,
      "outputs": [
        {
          "output_type": "execute_result",
          "data": {
            "text/plain": [
              "(238560, 6)"
            ]
          },
          "metadata": {},
          "execution_count": 19
        }
      ]
    },
    {
      "cell_type": "code",
      "metadata": {
        "id": "vMV2x0qJXRnA"
      },
      "source": [
        "dados_covid = pd.merge(dados_paises_covid, dados_paises_covid_dead, \n",
        "                       on = ['province', 'country',\t'Lat',\t'Long',\t'date'], \n",
        "                       how = 'inner')"
      ],
      "execution_count": null,
      "outputs": []
    },
    {
      "cell_type": "code",
      "metadata": {
        "colab": {
          "base_uri": "https://localhost:8080/",
          "height": 206
        },
        "id": "q3De0qHYXRrY",
        "outputId": "3f22e1d8-b11c-486b-a0c8-f1dc0158b9ea"
      },
      "source": [
        "dados_covid.tail()"
      ],
      "execution_count": null,
      "outputs": [
        {
          "output_type": "execute_result",
          "data": {
            "text/plain": [
              "       province               country        Lat        Long       date  \\\n",
              "238555      NaN    West Bank and Gaza  31.952200   35.233200 2022-05-10   \n",
              "238556      NaN  Winter Olympics 2022  39.904200  116.407400 2022-05-10   \n",
              "238557      NaN                 Yemen  15.552727   48.516388 2022-05-10   \n",
              "238558      NaN                Zambia -13.133897   27.849332 2022-05-10   \n",
              "238559      NaN              Zimbabwe -19.015438   29.154857 2022-05-10   \n",
              "\n",
              "        infected  dead  \n",
              "238555    657193  5657  \n",
              "238556       535     0  \n",
              "238557     11819  2149  \n",
              "238558    320226  3983  \n",
              "238559    248642  5481  "
            ],
            "text/html": [
              "\n",
              "  <div id=\"df-28c1bf22-b9ab-4a66-b86e-ff28d3fece6c\">\n",
              "    <div class=\"colab-df-container\">\n",
              "      <div>\n",
              "<style scoped>\n",
              "    .dataframe tbody tr th:only-of-type {\n",
              "        vertical-align: middle;\n",
              "    }\n",
              "\n",
              "    .dataframe tbody tr th {\n",
              "        vertical-align: top;\n",
              "    }\n",
              "\n",
              "    .dataframe thead th {\n",
              "        text-align: right;\n",
              "    }\n",
              "</style>\n",
              "<table border=\"1\" class=\"dataframe\">\n",
              "  <thead>\n",
              "    <tr style=\"text-align: right;\">\n",
              "      <th></th>\n",
              "      <th>province</th>\n",
              "      <th>country</th>\n",
              "      <th>Lat</th>\n",
              "      <th>Long</th>\n",
              "      <th>date</th>\n",
              "      <th>infected</th>\n",
              "      <th>dead</th>\n",
              "    </tr>\n",
              "  </thead>\n",
              "  <tbody>\n",
              "    <tr>\n",
              "      <th>238555</th>\n",
              "      <td>NaN</td>\n",
              "      <td>West Bank and Gaza</td>\n",
              "      <td>31.952200</td>\n",
              "      <td>35.233200</td>\n",
              "      <td>2022-05-10</td>\n",
              "      <td>657193</td>\n",
              "      <td>5657</td>\n",
              "    </tr>\n",
              "    <tr>\n",
              "      <th>238556</th>\n",
              "      <td>NaN</td>\n",
              "      <td>Winter Olympics 2022</td>\n",
              "      <td>39.904200</td>\n",
              "      <td>116.407400</td>\n",
              "      <td>2022-05-10</td>\n",
              "      <td>535</td>\n",
              "      <td>0</td>\n",
              "    </tr>\n",
              "    <tr>\n",
              "      <th>238557</th>\n",
              "      <td>NaN</td>\n",
              "      <td>Yemen</td>\n",
              "      <td>15.552727</td>\n",
              "      <td>48.516388</td>\n",
              "      <td>2022-05-10</td>\n",
              "      <td>11819</td>\n",
              "      <td>2149</td>\n",
              "    </tr>\n",
              "    <tr>\n",
              "      <th>238558</th>\n",
              "      <td>NaN</td>\n",
              "      <td>Zambia</td>\n",
              "      <td>-13.133897</td>\n",
              "      <td>27.849332</td>\n",
              "      <td>2022-05-10</td>\n",
              "      <td>320226</td>\n",
              "      <td>3983</td>\n",
              "    </tr>\n",
              "    <tr>\n",
              "      <th>238559</th>\n",
              "      <td>NaN</td>\n",
              "      <td>Zimbabwe</td>\n",
              "      <td>-19.015438</td>\n",
              "      <td>29.154857</td>\n",
              "      <td>2022-05-10</td>\n",
              "      <td>248642</td>\n",
              "      <td>5481</td>\n",
              "    </tr>\n",
              "  </tbody>\n",
              "</table>\n",
              "</div>\n",
              "      <button class=\"colab-df-convert\" onclick=\"convertToInteractive('df-28c1bf22-b9ab-4a66-b86e-ff28d3fece6c')\"\n",
              "              title=\"Convert this dataframe to an interactive table.\"\n",
              "              style=\"display:none;\">\n",
              "        \n",
              "  <svg xmlns=\"http://www.w3.org/2000/svg\" height=\"24px\"viewBox=\"0 0 24 24\"\n",
              "       width=\"24px\">\n",
              "    <path d=\"M0 0h24v24H0V0z\" fill=\"none\"/>\n",
              "    <path d=\"M18.56 5.44l.94 2.06.94-2.06 2.06-.94-2.06-.94-.94-2.06-.94 2.06-2.06.94zm-11 1L8.5 8.5l.94-2.06 2.06-.94-2.06-.94L8.5 2.5l-.94 2.06-2.06.94zm10 10l.94 2.06.94-2.06 2.06-.94-2.06-.94-.94-2.06-.94 2.06-2.06.94z\"/><path d=\"M17.41 7.96l-1.37-1.37c-.4-.4-.92-.59-1.43-.59-.52 0-1.04.2-1.43.59L10.3 9.45l-7.72 7.72c-.78.78-.78 2.05 0 2.83L4 21.41c.39.39.9.59 1.41.59.51 0 1.02-.2 1.41-.59l7.78-7.78 2.81-2.81c.8-.78.8-2.07 0-2.86zM5.41 20L4 18.59l7.72-7.72 1.47 1.35L5.41 20z\"/>\n",
              "  </svg>\n",
              "      </button>\n",
              "      \n",
              "  <style>\n",
              "    .colab-df-container {\n",
              "      display:flex;\n",
              "      flex-wrap:wrap;\n",
              "      gap: 12px;\n",
              "    }\n",
              "\n",
              "    .colab-df-convert {\n",
              "      background-color: #E8F0FE;\n",
              "      border: none;\n",
              "      border-radius: 50%;\n",
              "      cursor: pointer;\n",
              "      display: none;\n",
              "      fill: #1967D2;\n",
              "      height: 32px;\n",
              "      padding: 0 0 0 0;\n",
              "      width: 32px;\n",
              "    }\n",
              "\n",
              "    .colab-df-convert:hover {\n",
              "      background-color: #E2EBFA;\n",
              "      box-shadow: 0px 1px 2px rgba(60, 64, 67, 0.3), 0px 1px 3px 1px rgba(60, 64, 67, 0.15);\n",
              "      fill: #174EA6;\n",
              "    }\n",
              "\n",
              "    [theme=dark] .colab-df-convert {\n",
              "      background-color: #3B4455;\n",
              "      fill: #D2E3FC;\n",
              "    }\n",
              "\n",
              "    [theme=dark] .colab-df-convert:hover {\n",
              "      background-color: #434B5C;\n",
              "      box-shadow: 0px 1px 3px 1px rgba(0, 0, 0, 0.15);\n",
              "      filter: drop-shadow(0px 1px 2px rgba(0, 0, 0, 0.3));\n",
              "      fill: #FFFFFF;\n",
              "    }\n",
              "  </style>\n",
              "\n",
              "      <script>\n",
              "        const buttonEl =\n",
              "          document.querySelector('#df-28c1bf22-b9ab-4a66-b86e-ff28d3fece6c button.colab-df-convert');\n",
              "        buttonEl.style.display =\n",
              "          google.colab.kernel.accessAllowed ? 'block' : 'none';\n",
              "\n",
              "        async function convertToInteractive(key) {\n",
              "          const element = document.querySelector('#df-28c1bf22-b9ab-4a66-b86e-ff28d3fece6c');\n",
              "          const dataTable =\n",
              "            await google.colab.kernel.invokeFunction('convertToInteractive',\n",
              "                                                     [key], {});\n",
              "          if (!dataTable) return;\n",
              "\n",
              "          const docLinkHtml = 'Like what you see? Visit the ' +\n",
              "            '<a target=\"_blank\" href=https://colab.research.google.com/notebooks/data_table.ipynb>data table notebook</a>'\n",
              "            + ' to learn more about interactive tables.';\n",
              "          element.innerHTML = '';\n",
              "          dataTable['output_type'] = 'display_data';\n",
              "          await google.colab.output.renderOutput(dataTable, element);\n",
              "          const docLink = document.createElement('div');\n",
              "          docLink.innerHTML = docLinkHtml;\n",
              "          element.appendChild(docLink);\n",
              "        }\n",
              "      </script>\n",
              "    </div>\n",
              "  </div>\n",
              "  "
            ]
          },
          "metadata": {},
          "execution_count": 21
        }
      ]
    },
    {
      "cell_type": "code",
      "metadata": {
        "colab": {
          "base_uri": "https://localhost:8080/"
        },
        "id": "ixhzuKJPIDzV",
        "outputId": "b0e90ac6-5865-47c5-f7ac-f8f1676ce100"
      },
      "source": [
        "dados_covid.shape"
      ],
      "execution_count": null,
      "outputs": [
        {
          "output_type": "execute_result",
          "data": {
            "text/plain": [
              "(238560, 7)"
            ]
          },
          "metadata": {},
          "execution_count": 22
        }
      ]
    },
    {
      "cell_type": "markdown",
      "metadata": {
        "id": "FYba1y-bXRvH"
      },
      "source": [
        "## Aqui começa o trabalho"
      ]
    },
    {
      "cell_type": "markdown",
      "metadata": {
        "id": "eIMJfzTYv7Eu"
      },
      "source": [
        "## *Exemplo probabilidades (memórias de cálculo)"
      ]
    },
    {
      "cell_type": "markdown",
      "metadata": {
        "id": "yIFT4xrxHQNL"
      },
      "source": [
        "- Prob(infectados covid)"
      ]
    },
    {
      "cell_type": "markdown",
      "source": [
        ""
      ],
      "metadata": {
        "id": "oDRD6P9XX7U_"
      }
    },
    {
      "cell_type": "markdown",
      "source": [
        "# Checkpoint 2\n",
        "\n",
        "\n",
        "---\n",
        "\n",
        "\n",
        "\n",
        "\n"
      ],
      "metadata": {
        "id": "EVVTiKADYQfh"
      }
    },
    {
      "cell_type": "markdown",
      "source": [
        "**Atividade 2 – Projeto Covid19 - O mundo está sofrendo uma pandemia causada pela infecção generalizada pelo vírus Covid-19, também  conhecido  por  Corona  vírus.  Assumindo  que  trabalhamos  numa  empresa  de  Data Science voltada a Helthcare, levantamos alguns dados relacionados ao número de casos. Diante disto, algumas análises precisam ser realizadas.**"
      ],
      "metadata": {
        "id": "lMFM7tstMOQm"
      }
    },
    {
      "cell_type": "markdown",
      "source": [
        "Integrantes:\n",
        "\n",
        "\n",
        "RM: 93100 - Nome: Guilherme Ferreira Lima\n",
        "\n",
        "RM: 94393 - Nome: Breno Rodrigues Barbosa\n",
        "\n",
        "RM: 94366 - Nome: Mateus Cadete Silva\n",
        "\n",
        "RM: 96289 - Nome: SAMUEL GUERRA DE AQUINO"
      ],
      "metadata": {
        "id": "3112iB8iYEXm"
      }
    },
    {
      "cell_type": "markdown",
      "source": [
        "**1 –Filtrar  a  data  mais  recente  (realizar  o  processo  para  buscar  a  última  data  de  forma automatizada) e os países Brasil e E.U.A.**"
      ],
      "metadata": {
        "id": "e7RSC6nzMZ9X"
      }
    },
    {
      "cell_type": "code",
      "metadata": {
        "id": "K-0bsN_pv7RF"
      },
      "source": [
        "max_date = np.max(dados_covid['date'])"
      ],
      "execution_count": null,
      "outputs": []
    },
    {
      "cell_type": "code",
      "source": [
        "dados_covid_filtrado = dados_covid[dados_covid['date'] == max_date]"
      ],
      "metadata": {
        "id": "Gaet4V_45fpH"
      },
      "execution_count": null,
      "outputs": []
    },
    {
      "cell_type": "markdown",
      "source": [
        "**2 –Pesquisar populações de Brasil e E.U.A. Depois, adicionar estas populações como uma coluna no dataset.**"
      ],
      "metadata": {
        "id": "DaHOmx95MyyP"
      }
    },
    {
      "cell_type": "code",
      "metadata": {
        "id": "XLKq6QkMv7Wi"
      },
      "source": [
        "filtro_paises = ['Brazil', 'US']\n"
      ],
      "execution_count": null,
      "outputs": []
    },
    {
      "cell_type": "code",
      "source": [
        "filtro_br = ['Brazil']\n",
        "filtro_us = ['US']"
      ],
      "metadata": {
        "id": "dmyqcknIlhis"
      },
      "execution_count": null,
      "outputs": []
    },
    {
      "cell_type": "code",
      "metadata": {
        "id": "FliklpitTQ5A"
      },
      "source": [
        "Filtro_BR_US = dados_covid_filtrado [dados_covid_filtrado['country'].isin(filtro_paises)] #pega os dados dos 2 paises"
      ],
      "execution_count": null,
      "outputs": []
    },
    {
      "cell_type": "code",
      "source": [
        "poppaises= [214567609, 335898435] #variavel para a populacao"
      ],
      "metadata": {
        "id": "un9byGfF_Wo5"
      },
      "execution_count": null,
      "outputs": []
    },
    {
      "cell_type": "code",
      "source": [
        "populacao_BR_US = Filtro_BR_US.assign(Populacao=poppaises) #adicionando a populacao ao dataset\n",
        "populacao_BR_US"
      ],
      "metadata": {
        "id": "uzS5OILL6owZ",
        "colab": {
          "base_uri": "https://localhost:8080/",
          "height": 112
        },
        "outputId": "55c8fb9e-be41-4958-e164-90a1bf19dcd3"
      },
      "execution_count": null,
      "outputs": [
        {
          "output_type": "execute_result",
          "data": {
            "text/plain": [
              "       province country     Lat      Long       date  infected    dead  \\\n",
              "238307      NaN  Brazil -14.235  -51.9253 2022-05-10  30594388  664624   \n",
              "238532      NaN      US  40.000 -100.0000 2022-05-10  82059839  998048   \n",
              "\n",
              "        Populacao  \n",
              "238307  214567609  \n",
              "238532  335898435  "
            ],
            "text/html": [
              "\n",
              "  <div id=\"df-ab8309af-daa9-45c4-9154-d15bdf3a23a9\">\n",
              "    <div class=\"colab-df-container\">\n",
              "      <div>\n",
              "<style scoped>\n",
              "    .dataframe tbody tr th:only-of-type {\n",
              "        vertical-align: middle;\n",
              "    }\n",
              "\n",
              "    .dataframe tbody tr th {\n",
              "        vertical-align: top;\n",
              "    }\n",
              "\n",
              "    .dataframe thead th {\n",
              "        text-align: right;\n",
              "    }\n",
              "</style>\n",
              "<table border=\"1\" class=\"dataframe\">\n",
              "  <thead>\n",
              "    <tr style=\"text-align: right;\">\n",
              "      <th></th>\n",
              "      <th>province</th>\n",
              "      <th>country</th>\n",
              "      <th>Lat</th>\n",
              "      <th>Long</th>\n",
              "      <th>date</th>\n",
              "      <th>infected</th>\n",
              "      <th>dead</th>\n",
              "      <th>Populacao</th>\n",
              "    </tr>\n",
              "  </thead>\n",
              "  <tbody>\n",
              "    <tr>\n",
              "      <th>238307</th>\n",
              "      <td>NaN</td>\n",
              "      <td>Brazil</td>\n",
              "      <td>-14.235</td>\n",
              "      <td>-51.9253</td>\n",
              "      <td>2022-05-10</td>\n",
              "      <td>30594388</td>\n",
              "      <td>664624</td>\n",
              "      <td>214567609</td>\n",
              "    </tr>\n",
              "    <tr>\n",
              "      <th>238532</th>\n",
              "      <td>NaN</td>\n",
              "      <td>US</td>\n",
              "      <td>40.000</td>\n",
              "      <td>-100.0000</td>\n",
              "      <td>2022-05-10</td>\n",
              "      <td>82059839</td>\n",
              "      <td>998048</td>\n",
              "      <td>335898435</td>\n",
              "    </tr>\n",
              "  </tbody>\n",
              "</table>\n",
              "</div>\n",
              "      <button class=\"colab-df-convert\" onclick=\"convertToInteractive('df-ab8309af-daa9-45c4-9154-d15bdf3a23a9')\"\n",
              "              title=\"Convert this dataframe to an interactive table.\"\n",
              "              style=\"display:none;\">\n",
              "        \n",
              "  <svg xmlns=\"http://www.w3.org/2000/svg\" height=\"24px\"viewBox=\"0 0 24 24\"\n",
              "       width=\"24px\">\n",
              "    <path d=\"M0 0h24v24H0V0z\" fill=\"none\"/>\n",
              "    <path d=\"M18.56 5.44l.94 2.06.94-2.06 2.06-.94-2.06-.94-.94-2.06-.94 2.06-2.06.94zm-11 1L8.5 8.5l.94-2.06 2.06-.94-2.06-.94L8.5 2.5l-.94 2.06-2.06.94zm10 10l.94 2.06.94-2.06 2.06-.94-2.06-.94-.94-2.06-.94 2.06-2.06.94z\"/><path d=\"M17.41 7.96l-1.37-1.37c-.4-.4-.92-.59-1.43-.59-.52 0-1.04.2-1.43.59L10.3 9.45l-7.72 7.72c-.78.78-.78 2.05 0 2.83L4 21.41c.39.39.9.59 1.41.59.51 0 1.02-.2 1.41-.59l7.78-7.78 2.81-2.81c.8-.78.8-2.07 0-2.86zM5.41 20L4 18.59l7.72-7.72 1.47 1.35L5.41 20z\"/>\n",
              "  </svg>\n",
              "      </button>\n",
              "      \n",
              "  <style>\n",
              "    .colab-df-container {\n",
              "      display:flex;\n",
              "      flex-wrap:wrap;\n",
              "      gap: 12px;\n",
              "    }\n",
              "\n",
              "    .colab-df-convert {\n",
              "      background-color: #E8F0FE;\n",
              "      border: none;\n",
              "      border-radius: 50%;\n",
              "      cursor: pointer;\n",
              "      display: none;\n",
              "      fill: #1967D2;\n",
              "      height: 32px;\n",
              "      padding: 0 0 0 0;\n",
              "      width: 32px;\n",
              "    }\n",
              "\n",
              "    .colab-df-convert:hover {\n",
              "      background-color: #E2EBFA;\n",
              "      box-shadow: 0px 1px 2px rgba(60, 64, 67, 0.3), 0px 1px 3px 1px rgba(60, 64, 67, 0.15);\n",
              "      fill: #174EA6;\n",
              "    }\n",
              "\n",
              "    [theme=dark] .colab-df-convert {\n",
              "      background-color: #3B4455;\n",
              "      fill: #D2E3FC;\n",
              "    }\n",
              "\n",
              "    [theme=dark] .colab-df-convert:hover {\n",
              "      background-color: #434B5C;\n",
              "      box-shadow: 0px 1px 3px 1px rgba(0, 0, 0, 0.15);\n",
              "      filter: drop-shadow(0px 1px 2px rgba(0, 0, 0, 0.3));\n",
              "      fill: #FFFFFF;\n",
              "    }\n",
              "  </style>\n",
              "\n",
              "      <script>\n",
              "        const buttonEl =\n",
              "          document.querySelector('#df-ab8309af-daa9-45c4-9154-d15bdf3a23a9 button.colab-df-convert');\n",
              "        buttonEl.style.display =\n",
              "          google.colab.kernel.accessAllowed ? 'block' : 'none';\n",
              "\n",
              "        async function convertToInteractive(key) {\n",
              "          const element = document.querySelector('#df-ab8309af-daa9-45c4-9154-d15bdf3a23a9');\n",
              "          const dataTable =\n",
              "            await google.colab.kernel.invokeFunction('convertToInteractive',\n",
              "                                                     [key], {});\n",
              "          if (!dataTable) return;\n",
              "\n",
              "          const docLinkHtml = 'Like what you see? Visit the ' +\n",
              "            '<a target=\"_blank\" href=https://colab.research.google.com/notebooks/data_table.ipynb>data table notebook</a>'\n",
              "            + ' to learn more about interactive tables.';\n",
              "          element.innerHTML = '';\n",
              "          dataTable['output_type'] = 'display_data';\n",
              "          await google.colab.output.renderOutput(dataTable, element);\n",
              "          const docLink = document.createElement('div');\n",
              "          docLink.innerHTML = docLinkHtml;\n",
              "          element.appendChild(docLink);\n",
              "        }\n",
              "      </script>\n",
              "    </div>\n",
              "  </div>\n",
              "  "
            ]
          },
          "metadata": {},
          "execution_count": 89
        }
      ]
    },
    {
      "cell_type": "code",
      "source": [
        "total_infected = populacao_BR_US['infected'].sum() #infected total dos 2 paises"
      ],
      "metadata": {
        "id": "olawqg6LBhU2",
        "colab": {
          "base_uri": "https://localhost:8080/"
        },
        "outputId": "d971235c-92b8-4e5e-a159-879c772d7e26"
      },
      "execution_count": null,
      "outputs": [
        {
          "output_type": "execute_result",
          "data": {
            "text/plain": [
              "112654227"
            ]
          },
          "metadata": {},
          "execution_count": 87
        }
      ]
    },
    {
      "cell_type": "code",
      "source": [
        "total_populacao = populacao_BR_US['Populacao'].sum() #populacao total dos 2 paises\n",
        "total_mortos = populacao_BR_US['dead'].sum() #mortos total dos 2 paises"
      ],
      "metadata": {
        "colab": {
          "base_uri": "https://localhost:8080/"
        },
        "id": "PyUA6hBRtEnO",
        "outputId": "da772aee-2f85-449d-ee24-0ca72f5ef692"
      },
      "execution_count": null,
      "outputs": [
        {
          "output_type": "execute_result",
          "data": {
            "text/plain": [
              "1662672"
            ]
          },
          "metadata": {},
          "execution_count": 94
        }
      ]
    },
    {
      "cell_type": "code",
      "source": [
        "#total_infected / total_populacao #media de infectados para populacao e infectados"
      ],
      "metadata": {
        "id": "BcacQz3ntU1q"
      },
      "execution_count": null,
      "outputs": []
    },
    {
      "cell_type": "code",
      "source": [
        "infected_br = int(populacao_BR_US.loc[238307,'infected']) #numero de infectados BR\n",
        "infected_us= int(populacao_BR_US.loc[238532,'infected']) #numero de infectados US"
      ],
      "metadata": {
        "colab": {
          "base_uri": "https://localhost:8080/"
        },
        "id": "c9NPSKuMt3X_",
        "outputId": "d7ae9ff5-f988-44e4-b73a-00b22e4cf0c6"
      },
      "execution_count": null,
      "outputs": [
        {
          "output_type": "execute_result",
          "data": {
            "text/plain": [
              "82059839"
            ]
          },
          "metadata": {},
          "execution_count": 91
        }
      ]
    },
    {
      "cell_type": "code",
      "source": [
        "#popBra = dados_covid_filtrado [dados_covid_filtrado['country'].isin(bra)]"
      ],
      "metadata": {
        "id": "yrhaKNMGEwkX"
      },
      "execution_count": null,
      "outputs": []
    },
    {
      "cell_type": "code",
      "source": [
        "total_brasil_populacao = int(populacao_BR_US.loc[238307,'Populacao']) #total de populacao inteiro\n",
        "total_Us_populacao = int(populacao_BR_US.loc[238532,'Populacao']) #total de populacao inteiro"
      ],
      "metadata": {
        "colab": {
          "base_uri": "https://localhost:8080/"
        },
        "id": "Qe5Bj0BC0Dsk",
        "outputId": "1bc97c2c-5ab2-4de1-fe7b-af825a437f4a"
      },
      "execution_count": null,
      "outputs": [
        {
          "output_type": "execute_result",
          "data": {
            "text/plain": [
              "335898435"
            ]
          },
          "metadata": {},
          "execution_count": 99
        }
      ]
    },
    {
      "cell_type": "code",
      "source": [
        "#infected_br_int / total_populacao"
      ],
      "metadata": {
        "colab": {
          "base_uri": "https://localhost:8080/"
        },
        "id": "UBkWb_Fz0uL5",
        "outputId": "0b96553f-0c84-4149-9700-2fb4fb56658c"
      },
      "execution_count": null,
      "outputs": [
        {
          "output_type": "execute_result",
          "data": {
            "text/plain": [
              "0.0555790649277542"
            ]
          },
          "metadata": {},
          "execution_count": 46
        }
      ]
    },
    {
      "cell_type": "markdown",
      "source": [
        "***3– Considerando   somente   os   dados   dos   países   apresentados,   encontre   as   seguintes probabilidades, baseando-se na coluna de infectados:***"
      ],
      "metadata": {
        "id": "788HMP2ZGL1a"
      }
    },
    {
      "cell_type": "markdown",
      "source": [
        "a) Probalidade(infectado covid | ser Brasileiro) "
      ],
      "metadata": {
        "id": "T8XDk7MUD5Ah"
      }
    },
    {
      "cell_type": "code",
      "source": [
        "pInfecBr = infected_br / total_infected \n",
        "pInfecBr"
      ],
      "metadata": {
        "colab": {
          "base_uri": "https://localhost:8080/"
        },
        "id": "OVqZGLpjEAKo",
        "outputId": "916b77d9-f9bb-4a44-f81c-e009a4381ad6"
      },
      "execution_count": null,
      "outputs": [
        {
          "output_type": "execute_result",
          "data": {
            "text/plain": [
              "0.27157780772842194"
            ]
          },
          "metadata": {},
          "execution_count": 100
        }
      ]
    },
    {
      "cell_type": "markdown",
      "source": [
        "b)P(infectado covid | ser USA)"
      ],
      "metadata": {
        "id": "gZTLJnC0FNPE"
      }
    },
    {
      "cell_type": "code",
      "source": [
        "pInfecUs = total_infected / infected_us\n",
        "pInfecUs"
      ],
      "metadata": {
        "colab": {
          "base_uri": "https://localhost:8080/"
        },
        "id": "Ob0VDKbqFPrI",
        "outputId": "e12189fa-5a3c-4a57-f98c-0f02a9e541d3"
      },
      "execution_count": null,
      "outputs": [
        {
          "output_type": "execute_result",
          "data": {
            "text/plain": [
              "1.372830222101703"
            ]
          },
          "metadata": {},
          "execution_count": 92
        }
      ]
    },
    {
      "cell_type": "markdown",
      "source": [
        "**4– Encontre as seguintes probabilidades, baseando-se na coluna de mortos:**"
      ],
      "metadata": {
        "id": "v3pm_PyoFzsb"
      }
    },
    {
      "cell_type": "markdown",
      "source": [
        "*a)P(morte covid | ser Brasileiro)*"
      ],
      "metadata": {
        "id": "XDnbpWCIGUK1"
      }
    },
    {
      "cell_type": "code",
      "source": [
        "pMortBr = total_mortos / total_brasil_populacao\n",
        "pMortBr"
      ],
      "metadata": {
        "colab": {
          "base_uri": "https://localhost:8080/"
        },
        "id": "IEWZfcq2GWE1",
        "outputId": "9b482148-5539-4224-9f38-48062c7cf6c7"
      },
      "execution_count": null,
      "outputs": [
        {
          "output_type": "execute_result",
          "data": {
            "text/plain": [
              "0.007748942199379218"
            ]
          },
          "metadata": {},
          "execution_count": 101
        }
      ]
    },
    {
      "cell_type": "markdown",
      "source": [
        "*b)P(mortecovid | ser USA)*"
      ],
      "metadata": {
        "id": "jkJemKjUGasG"
      }
    },
    {
      "cell_type": "code",
      "source": [
        "pMortUs = total_mortos / total_Us_populacao\n",
        "pMortUs"
      ],
      "metadata": {
        "colab": {
          "base_uri": "https://localhost:8080/"
        },
        "id": "R3O6lh4KGcq4",
        "outputId": "f74ca477-7091-44b2-ac31-41a546aebd2d"
      },
      "execution_count": null,
      "outputs": [
        {
          "output_type": "execute_result",
          "data": {
            "text/plain": [
              "0.0049499248187923235"
            ]
          },
          "metadata": {},
          "execution_count": 102
        }
      ]
    },
    {
      "cell_type": "markdown",
      "source": [
        "**5– Comente as diferenças entre os países.**"
      ],
      "metadata": {
        "id": "53eHf_a5GegJ"
      }
    },
    {
      "cell_type": "markdown",
      "source": [
        "Podemos ver que a probalidade de infectados dos **Estados Unidos** é muito maior, porque existe uma grande parte da população que é anti-vacina, sem contar que a população é muito maior comparada a do Brasil.\n",
        "\n",
        "Já a probabilidade de mortes por covid no Brasil é maior, acreditamos que seja por conta da precariedade do sistema de saúde e da higiene sanitária, isso faz com que as pessoas não tenham o tratamento adequado para diminuir os sintomas da covid.\n"
      ],
      "metadata": {
        "id": "o8zdd2R2H-Cu"
      }
    }
  ]
}